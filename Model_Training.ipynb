{
  "cells": [
    {
      "cell_type": "markdown",
      "id": "80ff4692",
      "metadata": {
        "id": "80ff4692"
      },
      "source": [
        "# Doing some Imports"
      ]
    },
    {
      "cell_type": "code",
      "execution_count": null,
      "id": "ab7c68aa",
      "metadata": {
        "id": "ab7c68aa"
      },
      "outputs": [],
      "source": [
        "import tensorflow as tf\n",
        "import numpy as np\n",
        "import pickle\n",
        "import matplotlib.pyplot as plt\n",
        "from sklearn.utils import shuffle\n",
        "from sklearn.model_selection import train_test_split\n",
        "\n",
        "# Import necessary items from Keras\n",
        "from tensorflow.keras.callbacks import ModelCheckpoint\n",
        "from tensorflow.keras.optimizers import Adam\n",
        "from tensorflow.keras.optimizers.schedules import PiecewiseConstantDecay\n",
        "from keras.layers import concatenate\n",
        "from keras.losses import binary_crossentropy\n",
        "from keras.layers import Input\n",
        "from keras.models import Sequential\n",
        "from keras.layers import Activation, Dropout, UpSampling2D\n",
        "from keras.layers import Conv2DTranspose, Conv2D, MaxPooling2D\n",
        "from keras.layers import BatchNormalization\n",
        "from keras.preprocessing.image import ImageDataGenerator\n",
        "from keras import regularizers"
      ]
    },
    {
      "cell_type": "markdown",
      "id": "95f168f6",
      "metadata": {
        "id": "95f168f6"
      },
      "source": [
        "## Create your model"
      ]
    },
    {
      "cell_type": "code",
      "execution_count": null,
      "id": "300a219d",
      "metadata": {
        "id": "300a219d"
      },
      "outputs": [],
      "source": [
        "def create_model(input_shape):\n",
        "    # TODO: Create the Model\n",
        "    num_filters = 32\n",
        "    num_classes = 1\n",
        "    initializer = tf.keras.initializers.GlorotUniform\n",
        "\n",
        "    #input layer\n",
        "    inputs = Input(input_shape)\n",
        "    #Batch normalization to normalize inputs\n",
        "    X = BatchNormalization()(inputs)\n",
        "    \n",
        "    #2 Conv layers with relu activation and number of filter = num_filters\n",
        "    X = Conv2D(filters = num_filters, kernel_size = 3, strides = (1,1), padding = 'same', kernel_initializer = initializer(seed=0))(X)\n",
        "    X = Activation('relu')(X)\n",
        "    X = Conv2D(filters = num_filters, kernel_size = 3, strides = (1,1), padding = 'same', kernel_initializer = initializer(seed=0))(X)\n",
        "    ConvBlockOut1 = Activation('relu')(X)\n",
        "    X = MaxPooling2D(pool_size=(2,2), strides=(2,2))(ConvBlockOut1)\n",
        "    \n",
        "    #3 Conv layers with relu activation and number of filter = num_filters * 2, and dropout with prob = 0.2\n",
        "    X = Conv2D(filters = num_filters * 2, kernel_size = 3, strides = (1,1), padding = 'same', kernel_initializer = initializer(seed=0))(X)\n",
        "    X = Activation('relu')(X)\n",
        "    X = Dropout(0.2)(X)\n",
        "    X = Conv2D(filters = num_filters * 2, kernel_size = 3, strides = (1,1), padding = 'same', kernel_initializer = initializer(seed=0))(X)\n",
        "    X = Activation('relu')(X)\n",
        "    X = Dropout(0.2)(X)\n",
        "    X = Conv2D(filters = num_filters * 2, kernel_size = 3, strides = (1,1), padding = 'same', kernel_initializer = initializer(seed=0))(X)\n",
        "    X = Activation('relu')(X)\n",
        "    ConvBlockOut2 = Dropout(0.2)(X)\n",
        "    X = MaxPooling2D(pool_size=(2,2), strides=(2,2))(ConvBlockOut2)\n",
        "    \n",
        "    #2 Conv layers with relu activation and number of filter = num_filters * 4, and dropout with prob = 0.2\n",
        "    X = Conv2D(filters = num_filters * 4, kernel_size = 3, strides = (1,1), padding = 'same', kernel_initializer = initializer(seed=0))(X)\n",
        "    X = Activation('relu')(X)\n",
        "    X = Dropout(0.2)(X)\n",
        "    X = Conv2D(filters = num_filters * 4, kernel_size = 3, strides = (1,1), padding = 'same', kernel_initializer = initializer(seed=0))(X)\n",
        "    X = Activation('relu')(X)\n",
        "    ConvBlockOut3 = Dropout(0.2)(X)\n",
        "    X = MaxPooling2D(pool_size=(2,2), strides=(2,2))(ConvBlockOut3)\n",
        "\n",
        "    X = Conv2D(filters = num_filters * 8, kernel_size = 3, strides = (1,1), padding = 'same', kernel_initializer = initializer(seed=0))(X)\n",
        "    X = Conv2D(filters = num_filters * 8, kernel_size = 3, strides = (1,1), padding = 'same', kernel_initializer = initializer(seed=0))(X)\n",
        "    X = Conv2D(filters = num_filters * 8, kernel_size = 3, strides = (1,1), padding = 'same', kernel_initializer = initializer(seed=0))(X)\n",
        "\n",
        "    # Upsampling phase\n",
        "    X = UpSampling2D(size=(2, 2))(X)\n",
        "    merge1 = concatenate([ConvBlockOut3, X], axis=-1)\n",
        "    X = Conv2DTranspose(filters = num_filters * 4, kernel_size = 3, strides = (1,1), padding = 'same', kernel_initializer = initializer(seed=0))(merge1)\n",
        "    X = Activation('relu')(X)\n",
        "    X = Dropout(0.2)(X)\n",
        "    X = Conv2DTranspose(filters = num_filters * 4, kernel_size = 3, strides = (1,1), padding = 'same', kernel_initializer = initializer(seed=0))(X)\n",
        "    X = Activation('relu')(X)\n",
        "    X = Dropout(0.2)(X)\n",
        "\n",
        "    X = UpSampling2D(size=(2, 2))(X)\n",
        "    merge2 = concatenate([ConvBlockOut2, X], axis=-1)\n",
        "    X = Conv2DTranspose(filters = num_filters * 2, kernel_size = 3, strides = (1,1), padding = 'same', kernel_initializer = initializer(seed=0))(merge2)\n",
        "    X = Activation('relu')(X)\n",
        "    X = Dropout(0.2)(X)\n",
        "    X = Conv2DTranspose(filters = num_filters * 2, kernel_size = 3, strides = (1,1), padding = 'same', kernel_initializer = initializer(seed=0))(X)\n",
        "    X = Activation('relu')(X)\n",
        "    X = Dropout(0.2)(X)\n",
        "    X = Conv2DTranspose(filters = num_filters * 2, kernel_size = 3, strides = (1,1), padding = 'same', kernel_initializer = initializer(seed=0))(X)\n",
        "    X = Activation('relu')(X)\n",
        "    X = Dropout(0.2)(X)\n",
        "\n",
        "    X = UpSampling2D(size=(2, 2))(X)\n",
        "    merge3 = concatenate([ConvBlockOut1, X], axis=-1)\n",
        "    X = Conv2DTranspose(filters = num_filters, kernel_size = 3, strides = (1,1), padding = 'same', kernel_initializer = initializer(seed=0))(merge3)\n",
        "    X = Activation('relu')(X)\n",
        "    X = Conv2DTranspose(filters = num_filters, kernel_size = 3, strides = (1,1), padding = 'same', kernel_initializer = initializer(seed=0))(X)\n",
        "    X = Activation('relu')(X)\n",
        "\n",
        "    #output of the ConvNet to mirror number of classes with kernel size of 1 to reduce number of channels but keep image width and height\n",
        "    outputs = Conv2D(num_classes, 1, padding='same',activation = 'sigmoid')(X)\n",
        "\n",
        "    model = tf.keras.Model(inputs=inputs, outputs=outputs)\n",
        "\n",
        "    return model"
      ]
    },
    {
      "cell_type": "code",
      "source": [
        "model = create_model((64, 64, 3))\n",
        "model.summary()"
      ],
      "metadata": {
        "colab": {
          "base_uri": "https://localhost:8080/"
        },
        "id": "M4UBUPrtmIYa",
        "outputId": "3d803af4-6ede-4cdd-a961-9c9cfdf9591c"
      },
      "id": "M4UBUPrtmIYa",
      "execution_count": null,
      "outputs": [
        {
          "output_type": "stream",
          "name": "stdout",
          "text": [
            "Model: \"model\"\n",
            "__________________________________________________________________________________________________\n",
            " Layer (type)                   Output Shape         Param #     Connected to                     \n",
            "==================================================================================================\n",
            " input_1 (InputLayer)           [(None, 64, 64, 3)]  0           []                               \n",
            "                                                                                                  \n",
            " batch_normalization (BatchNorm  (None, 64, 64, 3)   12          ['input_1[0][0]']                \n",
            " alization)                                                                                       \n",
            "                                                                                                  \n",
            " conv2d (Conv2D)                (None, 64, 64, 32)   896         ['batch_normalization[0][0]']    \n",
            "                                                                                                  \n",
            " activation (Activation)        (None, 64, 64, 32)   0           ['conv2d[0][0]']                 \n",
            "                                                                                                  \n",
            " conv2d_1 (Conv2D)              (None, 64, 64, 32)   9248        ['activation[0][0]']             \n",
            "                                                                                                  \n",
            " activation_1 (Activation)      (None, 64, 64, 32)   0           ['conv2d_1[0][0]']               \n",
            "                                                                                                  \n",
            " max_pooling2d (MaxPooling2D)   (None, 32, 32, 32)   0           ['activation_1[0][0]']           \n",
            "                                                                                                  \n",
            " conv2d_2 (Conv2D)              (None, 32, 32, 64)   18496       ['max_pooling2d[0][0]']          \n",
            "                                                                                                  \n",
            " activation_2 (Activation)      (None, 32, 32, 64)   0           ['conv2d_2[0][0]']               \n",
            "                                                                                                  \n",
            " dropout (Dropout)              (None, 32, 32, 64)   0           ['activation_2[0][0]']           \n",
            "                                                                                                  \n",
            " conv2d_3 (Conv2D)              (None, 32, 32, 64)   36928       ['dropout[0][0]']                \n",
            "                                                                                                  \n",
            " activation_3 (Activation)      (None, 32, 32, 64)   0           ['conv2d_3[0][0]']               \n",
            "                                                                                                  \n",
            " dropout_1 (Dropout)            (None, 32, 32, 64)   0           ['activation_3[0][0]']           \n",
            "                                                                                                  \n",
            " conv2d_4 (Conv2D)              (None, 32, 32, 64)   36928       ['dropout_1[0][0]']              \n",
            "                                                                                                  \n",
            " activation_4 (Activation)      (None, 32, 32, 64)   0           ['conv2d_4[0][0]']               \n",
            "                                                                                                  \n",
            " dropout_2 (Dropout)            (None, 32, 32, 64)   0           ['activation_4[0][0]']           \n",
            "                                                                                                  \n",
            " max_pooling2d_1 (MaxPooling2D)  (None, 16, 16, 64)  0           ['dropout_2[0][0]']              \n",
            "                                                                                                  \n",
            " conv2d_5 (Conv2D)              (None, 16, 16, 128)  73856       ['max_pooling2d_1[0][0]']        \n",
            "                                                                                                  \n",
            " activation_5 (Activation)      (None, 16, 16, 128)  0           ['conv2d_5[0][0]']               \n",
            "                                                                                                  \n",
            " dropout_3 (Dropout)            (None, 16, 16, 128)  0           ['activation_5[0][0]']           \n",
            "                                                                                                  \n",
            " conv2d_6 (Conv2D)              (None, 16, 16, 128)  147584      ['dropout_3[0][0]']              \n",
            "                                                                                                  \n",
            " activation_6 (Activation)      (None, 16, 16, 128)  0           ['conv2d_6[0][0]']               \n",
            "                                                                                                  \n",
            " dropout_4 (Dropout)            (None, 16, 16, 128)  0           ['activation_6[0][0]']           \n",
            "                                                                                                  \n",
            " max_pooling2d_2 (MaxPooling2D)  (None, 8, 8, 128)   0           ['dropout_4[0][0]']              \n",
            "                                                                                                  \n",
            " conv2d_7 (Conv2D)              (None, 8, 8, 256)    295168      ['max_pooling2d_2[0][0]']        \n",
            "                                                                                                  \n",
            " conv2d_8 (Conv2D)              (None, 8, 8, 256)    590080      ['conv2d_7[0][0]']               \n",
            "                                                                                                  \n",
            " conv2d_9 (Conv2D)              (None, 8, 8, 256)    590080      ['conv2d_8[0][0]']               \n",
            "                                                                                                  \n",
            " up_sampling2d (UpSampling2D)   (None, 16, 16, 256)  0           ['conv2d_9[0][0]']               \n",
            "                                                                                                  \n",
            " concatenate (Concatenate)      (None, 16, 16, 384)  0           ['dropout_4[0][0]',              \n",
            "                                                                  'up_sampling2d[0][0]']          \n",
            "                                                                                                  \n",
            " conv2d_transpose (Conv2DTransp  (None, 16, 16, 128)  442496     ['concatenate[0][0]']            \n",
            " ose)                                                                                             \n",
            "                                                                                                  \n",
            " activation_7 (Activation)      (None, 16, 16, 128)  0           ['conv2d_transpose[0][0]']       \n",
            "                                                                                                  \n",
            " dropout_5 (Dropout)            (None, 16, 16, 128)  0           ['activation_7[0][0]']           \n",
            "                                                                                                  \n",
            " conv2d_transpose_1 (Conv2DTran  (None, 16, 16, 128)  147584     ['dropout_5[0][0]']              \n",
            " spose)                                                                                           \n",
            "                                                                                                  \n",
            " activation_8 (Activation)      (None, 16, 16, 128)  0           ['conv2d_transpose_1[0][0]']     \n",
            "                                                                                                  \n",
            " dropout_6 (Dropout)            (None, 16, 16, 128)  0           ['activation_8[0][0]']           \n",
            "                                                                                                  \n",
            " up_sampling2d_1 (UpSampling2D)  (None, 32, 32, 128)  0          ['dropout_6[0][0]']              \n",
            "                                                                                                  \n",
            " concatenate_1 (Concatenate)    (None, 32, 32, 192)  0           ['dropout_2[0][0]',              \n",
            "                                                                  'up_sampling2d_1[0][0]']        \n",
            "                                                                                                  \n",
            " conv2d_transpose_2 (Conv2DTran  (None, 32, 32, 64)  110656      ['concatenate_1[0][0]']          \n",
            " spose)                                                                                           \n",
            "                                                                                                  \n",
            " activation_9 (Activation)      (None, 32, 32, 64)   0           ['conv2d_transpose_2[0][0]']     \n",
            "                                                                                                  \n",
            " dropout_7 (Dropout)            (None, 32, 32, 64)   0           ['activation_9[0][0]']           \n",
            "                                                                                                  \n",
            " conv2d_transpose_3 (Conv2DTran  (None, 32, 32, 64)  36928       ['dropout_7[0][0]']              \n",
            " spose)                                                                                           \n",
            "                                                                                                  \n",
            " activation_10 (Activation)     (None, 32, 32, 64)   0           ['conv2d_transpose_3[0][0]']     \n",
            "                                                                                                  \n",
            " dropout_8 (Dropout)            (None, 32, 32, 64)   0           ['activation_10[0][0]']          \n",
            "                                                                                                  \n",
            " conv2d_transpose_4 (Conv2DTran  (None, 32, 32, 64)  36928       ['dropout_8[0][0]']              \n",
            " spose)                                                                                           \n",
            "                                                                                                  \n",
            " activation_11 (Activation)     (None, 32, 32, 64)   0           ['conv2d_transpose_4[0][0]']     \n",
            "                                                                                                  \n",
            " dropout_9 (Dropout)            (None, 32, 32, 64)   0           ['activation_11[0][0]']          \n",
            "                                                                                                  \n",
            " up_sampling2d_2 (UpSampling2D)  (None, 64, 64, 64)  0           ['dropout_9[0][0]']              \n",
            "                                                                                                  \n",
            " concatenate_2 (Concatenate)    (None, 64, 64, 96)   0           ['activation_1[0][0]',           \n",
            "                                                                  'up_sampling2d_2[0][0]']        \n",
            "                                                                                                  \n",
            " conv2d_transpose_5 (Conv2DTran  (None, 64, 64, 32)  27680       ['concatenate_2[0][0]']          \n",
            " spose)                                                                                           \n",
            "                                                                                                  \n",
            " activation_12 (Activation)     (None, 64, 64, 32)   0           ['conv2d_transpose_5[0][0]']     \n",
            "                                                                                                  \n",
            " conv2d_transpose_6 (Conv2DTran  (None, 64, 64, 32)  9248        ['activation_12[0][0]']          \n",
            " spose)                                                                                           \n",
            "                                                                                                  \n",
            " activation_13 (Activation)     (None, 64, 64, 32)   0           ['conv2d_transpose_6[0][0]']     \n",
            "                                                                                                  \n",
            " conv2d_10 (Conv2D)             (None, 64, 64, 1)    33          ['activation_13[0][0]']          \n",
            "                                                                                                  \n",
            "==================================================================================================\n",
            "Total params: 2,610,829\n",
            "Trainable params: 2,610,823\n",
            "Non-trainable params: 6\n",
            "__________________________________________________________________________________________________\n"
          ]
        }
      ]
    },
    {
      "cell_type": "markdown",
      "id": "7a4cef50",
      "metadata": {
        "id": "7a4cef50"
      },
      "source": [
        "## Load the data"
      ]
    },
    {
      "cell_type": "code",
      "source": [
        "from google.colab import drive\n",
        "drive.mount('/content/drive')"
      ],
      "metadata": {
        "colab": {
          "base_uri": "https://localhost:8080/"
        },
        "id": "H-dRBvqVAUFu",
        "outputId": "7b0fe0bf-bffa-4bcb-99cf-745b0887c6d6"
      },
      "id": "H-dRBvqVAUFu",
      "execution_count": null,
      "outputs": [
        {
          "output_type": "stream",
          "name": "stdout",
          "text": [
            "Drive already mounted at /content/drive; to attempt to forcibly remount, call drive.mount(\"/content/drive\", force_remount=True).\n"
          ]
        }
      ]
    },
    {
      "cell_type": "code",
      "execution_count": null,
      "id": "4eef8d54",
      "metadata": {
        "id": "4eef8d54"
      },
      "outputs": [],
      "source": [
        "# Load training images\n",
        "train_images = pickle.load(open(\"/content/drive/MyDrive/DLProject/full_CNN_train.p\", \"rb\" ))\n",
        "\n",
        "# Load image labels\n",
        "labels = pickle.load(open(\"/content/drive/MyDrive/DLProject/full_CNN_labels.p\", \"rb\" ))\n",
        "\n",
        "# Make into arrays as the neural network wants these\n",
        "train_images = np.array(train_images)\n",
        "labels = np.array(labels)\n",
        "labels = (labels>128).astype('uint8')"
      ]
    },
    {
      "cell_type": "markdown",
      "id": "5e56457e",
      "metadata": {
        "id": "5e56457e"
      },
      "source": [
        "## Preprocess the data"
      ]
    },
    {
      "cell_type": "code",
      "execution_count": null,
      "id": "c8c6c3f6",
      "metadata": {
        "id": "c8c6c3f6",
        "colab": {
          "base_uri": "https://localhost:8080/"
        },
        "outputId": "15a2f9fb-27f3-4ad0-c352-bafedef208c6"
      },
      "outputs": [
        {
          "output_type": "execute_result",
          "data": {
            "text/plain": [
              "(80, 160, 3)"
            ]
          },
          "metadata": {},
          "execution_count": 6
        }
      ],
      "source": [
        "# TODO: Preprocess the images\n",
        "X = train_images.shape  # (12764, 80, 160, 3)\n",
        "Y = labels.shape  # (12764, 80, 160, 1)\n",
        "\n",
        "X[1:]"
      ]
    },
    {
      "cell_type": "markdown",
      "id": "988ef861",
      "metadata": {
        "id": "988ef861"
      },
      "source": [
        "## Create the train and test splits"
      ]
    },
    {
      "cell_type": "code",
      "execution_count": null,
      "id": "d15a7a93",
      "metadata": {
        "id": "d15a7a93"
      },
      "outputs": [],
      "source": [
        "# Shuffle images along with their labels, then split into training/validation sets\n",
        "train_images, labels = shuffle(train_images, labels)\n",
        "# Test size may be 10% or 20%\n",
        "X_train, X_val, y_train, y_val = train_test_split(train_images, labels, test_size=0.1)"
      ]
    },
    {
      "cell_type": "markdown",
      "id": "0ec1fe9c",
      "metadata": {
        "id": "0ec1fe9c"
      },
      "source": [
        "## Train your model"
      ]
    },
    {
      "cell_type": "code",
      "execution_count": null,
      "id": "e2f0d64e",
      "metadata": {
        "id": "e2f0d64e",
        "colab": {
          "base_uri": "https://localhost:8080/"
        },
        "outputId": "bea79592-df90-4685-db53-53af58261ed3"
      },
      "outputs": [
        {
          "output_type": "stream",
          "name": "stderr",
          "text": [
            "/usr/local/lib/python3.7/dist-packages/ipykernel_launcher.py:24: UserWarning: `Model.fit_generator` is deprecated and will be removed in a future version. Please use `Model.fit`, which supports generators.\n"
          ]
        },
        {
          "output_type": "stream",
          "name": "stdout",
          "text": [
            "Epoch 1/19\n",
            "180/179 [==============================] - ETA: 0s - loss: 0.2579 - accuracy: 0.9145INFO:tensorflow:Assets written to: /content/assets\n",
            "179/179 [==============================] - 109s 592ms/step - loss: 0.2579 - accuracy: 0.9145 - val_loss: 0.0717 - val_accuracy: 0.9760\n",
            "Epoch 2/19\n",
            "180/179 [==============================] - ETA: 0s - loss: 0.0553 - accuracy: 0.9783INFO:tensorflow:Assets written to: /content/assets\n",
            "179/179 [==============================] - 106s 592ms/step - loss: 0.0553 - accuracy: 0.9783 - val_loss: 0.0351 - val_accuracy: 0.9871\n",
            "Epoch 3/19\n",
            "180/179 [==============================] - ETA: 0s - loss: 0.0391 - accuracy: 0.9848INFO:tensorflow:Assets written to: /content/assets\n",
            "179/179 [==============================] - 106s 589ms/step - loss: 0.0391 - accuracy: 0.9848 - val_loss: 0.0279 - val_accuracy: 0.9897\n",
            "Epoch 4/19\n",
            "180/179 [==============================] - ETA: 0s - loss: 0.0341 - accuracy: 0.9867INFO:tensorflow:Assets written to: /content/assets\n",
            "179/179 [==============================] - 106s 590ms/step - loss: 0.0341 - accuracy: 0.9867 - val_loss: 0.0282 - val_accuracy: 0.9900\n",
            "Epoch 5/19\n",
            "180/179 [==============================] - ETA: 0s - loss: 0.0316 - accuracy: 0.9877INFO:tensorflow:Assets written to: /content/assets\n",
            "179/179 [==============================] - 106s 590ms/step - loss: 0.0316 - accuracy: 0.9877 - val_loss: 0.0241 - val_accuracy: 0.9906\n",
            "Epoch 6/19\n",
            "180/179 [==============================] - ETA: 0s - loss: 0.0295 - accuracy: 0.9884INFO:tensorflow:Assets written to: /content/assets\n",
            "179/179 [==============================] - 106s 592ms/step - loss: 0.0295 - accuracy: 0.9884 - val_loss: 0.0231 - val_accuracy: 0.9911\n",
            "Epoch 7/19\n",
            "180/179 [==============================] - ETA: 0s - loss: 0.0286 - accuracy: 0.9887INFO:tensorflow:Assets written to: /content/assets\n",
            "179/179 [==============================] - 106s 591ms/step - loss: 0.0286 - accuracy: 0.9887 - val_loss: 0.0224 - val_accuracy: 0.9912\n",
            "Epoch 8/19\n",
            "180/179 [==============================] - ETA: 0s - loss: 0.0274 - accuracy: 0.9891INFO:tensorflow:Assets written to: /content/assets\n",
            "179/179 [==============================] - 106s 589ms/step - loss: 0.0274 - accuracy: 0.9891 - val_loss: 0.0218 - val_accuracy: 0.9914\n",
            "Epoch 9/19\n",
            "179/179 [==============================] - 98s 547ms/step - loss: 0.0272 - accuracy: 0.9891 - val_loss: 0.0216 - val_accuracy: 0.9913\n",
            "Epoch 10/19\n",
            "180/179 [==============================] - ETA: 0s - loss: 0.0264 - accuracy: 0.9894INFO:tensorflow:Assets written to: /content/assets\n",
            "179/179 [==============================] - 106s 592ms/step - loss: 0.0264 - accuracy: 0.9894 - val_loss: 0.0212 - val_accuracy: 0.9916\n",
            "Epoch 11/19\n",
            "180/179 [==============================] - ETA: 0s - loss: 0.0249 - accuracy: 0.9900INFO:tensorflow:Assets written to: /content/assets\n",
            "179/179 [==============================] - 106s 591ms/step - loss: 0.0249 - accuracy: 0.9900 - val_loss: 0.0208 - val_accuracy: 0.9918\n",
            "Epoch 12/19\n",
            "180/179 [==============================] - ETA: 0s - loss: 0.0249 - accuracy: 0.9900INFO:tensorflow:Assets written to: /content/assets\n",
            "179/179 [==============================] - 106s 589ms/step - loss: 0.0249 - accuracy: 0.9900 - val_loss: 0.0198 - val_accuracy: 0.9919\n",
            "Epoch 13/19\n",
            "179/179 [==============================] - 100s 556ms/step - loss: 0.0245 - accuracy: 0.9901 - val_loss: 0.0207 - val_accuracy: 0.9916\n",
            "Epoch 14/19\n",
            "180/179 [==============================] - ETA: 0s - loss: 0.0235 - accuracy: 0.9905INFO:tensorflow:Assets written to: /content/assets\n",
            "179/179 [==============================] - 106s 589ms/step - loss: 0.0235 - accuracy: 0.9905 - val_loss: 0.0194 - val_accuracy: 0.9923\n",
            "Epoch 15/19\n",
            "179/179 [==============================] - 98s 546ms/step - loss: 0.0234 - accuracy: 0.9906 - val_loss: 0.0194 - val_accuracy: 0.9922\n",
            "Epoch 16/19\n",
            "180/179 [==============================] - ETA: 0s - loss: 0.0228 - accuracy: 0.9907INFO:tensorflow:Assets written to: /content/assets\n",
            "179/179 [==============================] - 106s 593ms/step - loss: 0.0228 - accuracy: 0.9907 - val_loss: 0.0182 - val_accuracy: 0.9926\n",
            "Epoch 17/19\n",
            "179/179 [==============================] - 98s 546ms/step - loss: 0.0219 - accuracy: 0.9911 - val_loss: 0.0182 - val_accuracy: 0.9925\n",
            "Epoch 18/19\n",
            "179/179 [==============================] - 98s 547ms/step - loss: 0.0218 - accuracy: 0.9910 - val_loss: 0.0181 - val_accuracy: 0.9926\n",
            "Epoch 19/19\n",
            "180/179 [==============================] - ETA: 0s - loss: 0.0222 - accuracy: 0.9909INFO:tensorflow:Assets written to: /content/assets\n",
            "179/179 [==============================] - 106s 591ms/step - loss: 0.0222 - accuracy: 0.9909 - val_loss: 0.0173 - val_accuracy: 0.9928\n"
          ]
        },
        {
          "output_type": "execute_result",
          "data": {
            "text/plain": [
              "<keras.callbacks.History at 0x7f6f305d5350>"
            ]
          },
          "metadata": {},
          "execution_count": 16
        }
      ],
      "source": [
        "# TODO: Train your model\n",
        "datagen = ImageDataGenerator(channel_shift_range=30, brightness_range=[0, 2])\n",
        "datagen.fit(X_train)\n",
        "input_shape = X_train.shape[1:]\n",
        "# Create the neural network\n",
        "model = create_model(input_shape)\n",
        "\n",
        "step = tf.Variable(0, trainable=False)\n",
        "boundaries = [900, 1600]\n",
        "values = [0.001, 0.0005, 0.0004]\n",
        "learning_rate_fn = PiecewiseConstantDecay(boundaries, values)\n",
        "\n",
        "# Later, whenever we perform an optimization step, we pass in the step.\n",
        "learning_rate = learning_rate_fn(step)\n",
        "opt = Adam(learning_rate=learning_rate)\n",
        "\n",
        "model_checkpoint_callback = tf.keras.callbacks.ModelCheckpoint(\n",
        "    filepath='/content',\n",
        "    monitor='val_accuracy',\n",
        "    mode='max',\n",
        "    save_best_only=True)\n",
        "\n",
        "model.compile(optimizer=opt, loss='binary_crossentropy', metrics=['accuracy'])\n",
        "model.fit_generator(datagen.flow(X_train, y_train, batch_size=64), steps_per_epoch=len(X_train) / 64, epochs=19, verbose=1, validation_data=(X_val, y_val), callbacks=[model_checkpoint_callback])\n",
        "#model.fit(X_train,y_train,epochs= 5,batch_size=64)"
      ]
    },
    {
      "cell_type": "code",
      "source": [
        "model.evaluate(X_val,y_val)"
      ],
      "metadata": {
        "colab": {
          "base_uri": "https://localhost:8080/"
        },
        "id": "KkteE7AdMslS",
        "outputId": "ea294df1-ce1e-4930-b908-f71269b6c8bd"
      },
      "id": "KkteE7AdMslS",
      "execution_count": null,
      "outputs": [
        {
          "output_type": "stream",
          "name": "stdout",
          "text": [
            "40/40 [==============================] - 4s 95ms/step - loss: 0.0173 - accuracy: 0.9928\n"
          ]
        },
        {
          "output_type": "execute_result",
          "data": {
            "text/plain": [
              "[0.017311574891209602, 0.9928343892097473]"
            ]
          },
          "metadata": {},
          "execution_count": 17
        }
      ]
    },
    {
      "cell_type": "markdown",
      "id": "85a4fe71",
      "metadata": {
        "id": "85a4fe71"
      },
      "source": [
        "## Save your model"
      ]
    },
    {
      "cell_type": "code",
      "execution_count": null,
      "id": "3a07d002",
      "metadata": {
        "id": "3a07d002",
        "colab": {
          "base_uri": "https://localhost:8080/"
        },
        "outputId": "fea53c6e-81e8-4dbe-8139-edfec1bb0403"
      },
      "outputs": [
        {
          "output_type": "stream",
          "name": "stdout",
          "text": [
            "Model: \"model_3\"\n",
            "__________________________________________________________________________________________________\n",
            " Layer (type)                   Output Shape         Param #     Connected to                     \n",
            "==================================================================================================\n",
            " input_4 (InputLayer)           [(None, 80, 160, 3)  0           []                               \n",
            "                                ]                                                                 \n",
            "                                                                                                  \n",
            " batch_normalization_3 (BatchNo  (None, 80, 160, 3)  12          ['input_4[0][0]']                \n",
            " rmalization)                                                                                     \n",
            "                                                                                                  \n",
            " conv2d_33 (Conv2D)             (None, 80, 160, 32)  896         ['batch_normalization_3[0][0]']  \n",
            "                                                                                                  \n",
            " activation_42 (Activation)     (None, 80, 160, 32)  0           ['conv2d_33[0][0]']              \n",
            "                                                                                                  \n",
            " conv2d_34 (Conv2D)             (None, 80, 160, 32)  9248        ['activation_42[0][0]']          \n",
            "                                                                                                  \n",
            " activation_43 (Activation)     (None, 80, 160, 32)  0           ['conv2d_34[0][0]']              \n",
            "                                                                                                  \n",
            " max_pooling2d_9 (MaxPooling2D)  (None, 40, 80, 32)  0           ['activation_43[0][0]']          \n",
            "                                                                                                  \n",
            " conv2d_35 (Conv2D)             (None, 40, 80, 64)   18496       ['max_pooling2d_9[0][0]']        \n",
            "                                                                                                  \n",
            " activation_44 (Activation)     (None, 40, 80, 64)   0           ['conv2d_35[0][0]']              \n",
            "                                                                                                  \n",
            " dropout_30 (Dropout)           (None, 40, 80, 64)   0           ['activation_44[0][0]']          \n",
            "                                                                                                  \n",
            " conv2d_36 (Conv2D)             (None, 40, 80, 64)   36928       ['dropout_30[0][0]']             \n",
            "                                                                                                  \n",
            " activation_45 (Activation)     (None, 40, 80, 64)   0           ['conv2d_36[0][0]']              \n",
            "                                                                                                  \n",
            " dropout_31 (Dropout)           (None, 40, 80, 64)   0           ['activation_45[0][0]']          \n",
            "                                                                                                  \n",
            " conv2d_37 (Conv2D)             (None, 40, 80, 64)   36928       ['dropout_31[0][0]']             \n",
            "                                                                                                  \n",
            " activation_46 (Activation)     (None, 40, 80, 64)   0           ['conv2d_37[0][0]']              \n",
            "                                                                                                  \n",
            " dropout_32 (Dropout)           (None, 40, 80, 64)   0           ['activation_46[0][0]']          \n",
            "                                                                                                  \n",
            " max_pooling2d_10 (MaxPooling2D  (None, 20, 40, 64)  0           ['dropout_32[0][0]']             \n",
            " )                                                                                                \n",
            "                                                                                                  \n",
            " conv2d_38 (Conv2D)             (None, 20, 40, 128)  73856       ['max_pooling2d_10[0][0]']       \n",
            "                                                                                                  \n",
            " activation_47 (Activation)     (None, 20, 40, 128)  0           ['conv2d_38[0][0]']              \n",
            "                                                                                                  \n",
            " dropout_33 (Dropout)           (None, 20, 40, 128)  0           ['activation_47[0][0]']          \n",
            "                                                                                                  \n",
            " conv2d_39 (Conv2D)             (None, 20, 40, 128)  147584      ['dropout_33[0][0]']             \n",
            "                                                                                                  \n",
            " activation_48 (Activation)     (None, 20, 40, 128)  0           ['conv2d_39[0][0]']              \n",
            "                                                                                                  \n",
            " dropout_34 (Dropout)           (None, 20, 40, 128)  0           ['activation_48[0][0]']          \n",
            "                                                                                                  \n",
            " max_pooling2d_11 (MaxPooling2D  (None, 10, 20, 128)  0          ['dropout_34[0][0]']             \n",
            " )                                                                                                \n",
            "                                                                                                  \n",
            " conv2d_40 (Conv2D)             (None, 10, 20, 256)  295168      ['max_pooling2d_11[0][0]']       \n",
            "                                                                                                  \n",
            " conv2d_41 (Conv2D)             (None, 10, 20, 256)  590080      ['conv2d_40[0][0]']              \n",
            "                                                                                                  \n",
            " conv2d_42 (Conv2D)             (None, 10, 20, 256)  590080      ['conv2d_41[0][0]']              \n",
            "                                                                                                  \n",
            " up_sampling2d_9 (UpSampling2D)  (None, 20, 40, 256)  0          ['conv2d_42[0][0]']              \n",
            "                                                                                                  \n",
            " concatenate_9 (Concatenate)    (None, 20, 40, 384)  0           ['dropout_34[0][0]',             \n",
            "                                                                  'up_sampling2d_9[0][0]']        \n",
            "                                                                                                  \n",
            " conv2d_transpose_21 (Conv2DTra  (None, 20, 40, 128)  442496     ['concatenate_9[0][0]']          \n",
            " nspose)                                                                                          \n",
            "                                                                                                  \n",
            " activation_49 (Activation)     (None, 20, 40, 128)  0           ['conv2d_transpose_21[0][0]']    \n",
            "                                                                                                  \n",
            " dropout_35 (Dropout)           (None, 20, 40, 128)  0           ['activation_49[0][0]']          \n",
            "                                                                                                  \n",
            " conv2d_transpose_22 (Conv2DTra  (None, 20, 40, 128)  147584     ['dropout_35[0][0]']             \n",
            " nspose)                                                                                          \n",
            "                                                                                                  \n",
            " activation_50 (Activation)     (None, 20, 40, 128)  0           ['conv2d_transpose_22[0][0]']    \n",
            "                                                                                                  \n",
            " dropout_36 (Dropout)           (None, 20, 40, 128)  0           ['activation_50[0][0]']          \n",
            "                                                                                                  \n",
            " up_sampling2d_10 (UpSampling2D  (None, 40, 80, 128)  0          ['dropout_36[0][0]']             \n",
            " )                                                                                                \n",
            "                                                                                                  \n",
            " concatenate_10 (Concatenate)   (None, 40, 80, 192)  0           ['dropout_32[0][0]',             \n",
            "                                                                  'up_sampling2d_10[0][0]']       \n",
            "                                                                                                  \n",
            " conv2d_transpose_23 (Conv2DTra  (None, 40, 80, 64)  110656      ['concatenate_10[0][0]']         \n",
            " nspose)                                                                                          \n",
            "                                                                                                  \n",
            " activation_51 (Activation)     (None, 40, 80, 64)   0           ['conv2d_transpose_23[0][0]']    \n",
            "                                                                                                  \n",
            " dropout_37 (Dropout)           (None, 40, 80, 64)   0           ['activation_51[0][0]']          \n",
            "                                                                                                  \n",
            " conv2d_transpose_24 (Conv2DTra  (None, 40, 80, 64)  36928       ['dropout_37[0][0]']             \n",
            " nspose)                                                                                          \n",
            "                                                                                                  \n",
            " activation_52 (Activation)     (None, 40, 80, 64)   0           ['conv2d_transpose_24[0][0]']    \n",
            "                                                                                                  \n",
            " dropout_38 (Dropout)           (None, 40, 80, 64)   0           ['activation_52[0][0]']          \n",
            "                                                                                                  \n",
            " conv2d_transpose_25 (Conv2DTra  (None, 40, 80, 64)  36928       ['dropout_38[0][0]']             \n",
            " nspose)                                                                                          \n",
            "                                                                                                  \n",
            " activation_53 (Activation)     (None, 40, 80, 64)   0           ['conv2d_transpose_25[0][0]']    \n",
            "                                                                                                  \n",
            " dropout_39 (Dropout)           (None, 40, 80, 64)   0           ['activation_53[0][0]']          \n",
            "                                                                                                  \n",
            " up_sampling2d_11 (UpSampling2D  (None, 80, 160, 64)  0          ['dropout_39[0][0]']             \n",
            " )                                                                                                \n",
            "                                                                                                  \n",
            " concatenate_11 (Concatenate)   (None, 80, 160, 96)  0           ['activation_43[0][0]',          \n",
            "                                                                  'up_sampling2d_11[0][0]']       \n",
            "                                                                                                  \n",
            " conv2d_transpose_26 (Conv2DTra  (None, 80, 160, 32)  27680      ['concatenate_11[0][0]']         \n",
            " nspose)                                                                                          \n",
            "                                                                                                  \n",
            " activation_54 (Activation)     (None, 80, 160, 32)  0           ['conv2d_transpose_26[0][0]']    \n",
            "                                                                                                  \n",
            " conv2d_transpose_27 (Conv2DTra  (None, 80, 160, 32)  9248       ['activation_54[0][0]']          \n",
            " nspose)                                                                                          \n",
            "                                                                                                  \n",
            " activation_55 (Activation)     (None, 80, 160, 32)  0           ['conv2d_transpose_27[0][0]']    \n",
            "                                                                                                  \n",
            " conv2d_43 (Conv2D)             (None, 80, 160, 1)   33          ['activation_55[0][0]']          \n",
            "                                                                                                  \n",
            "==================================================================================================\n",
            "Total params: 2,610,829\n",
            "Trainable params: 2,610,823\n",
            "Non-trainable params: 6\n",
            "__________________________________________________________________________________________________\n"
          ]
        }
      ],
      "source": [
        "# Save model architecture and weights\n",
        "model.save('full_CNN_model.h5')\n",
        "\n",
        "# Show summary of model\n",
        "model.summary()"
      ]
    },
    {
      "cell_type": "code",
      "source": [
        ""
      ],
      "metadata": {
        "id": "ePHjjQeAT8Fs"
      },
      "id": "ePHjjQeAT8Fs",
      "execution_count": null,
      "outputs": []
    }
  ],
  "metadata": {
    "kernelspec": {
      "display_name": "Python 3",
      "language": "python",
      "name": "python3"
    },
    "language_info": {
      "codemirror_mode": {
        "name": "ipython",
        "version": 3
      },
      "file_extension": ".py",
      "mimetype": "text/x-python",
      "name": "python",
      "nbconvert_exporter": "python",
      "pygments_lexer": "ipython3",
      "version": "3.8.8"
    },
    "colab": {
      "name": "Model-Training.ipynb",
      "provenance": [],
      "collapsed_sections": []
    },
    "accelerator": "GPU"
  },
  "nbformat": 4,
  "nbformat_minor": 5
}